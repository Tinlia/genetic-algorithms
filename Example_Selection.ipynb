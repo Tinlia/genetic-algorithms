{
  "nbformat": 4,
  "nbformat_minor": 0,
  "metadata": {
    "colab": {
      "provenance": [],
      "authorship_tag": "ABX9TyN/6E5XTZGRW5R0BHtwx8kF",
      "include_colab_link": true
    },
    "kernelspec": {
      "name": "python3",
      "display_name": "Python 3"
    },
    "language_info": {
      "name": "python"
    }
  },
  "cells": [
    {
      "cell_type": "markdown",
      "metadata": {
        "id": "view-in-github",
        "colab_type": "text"
      },
      "source": [
        "<a href=\"https://colab.research.google.com/github/Tinlia/genetic-algorithms/blob/main/Example_Selection.ipynb\" target=\"_parent\"><img src=\"https://colab.research.google.com/assets/colab-badge.svg\" alt=\"Open In Colab\"/></a>"
      ]
    },
    {
      "cell_type": "markdown",
      "source": [
        "### Step 1: Declare the fitness values"
      ],
      "metadata": {
        "id": "HLk17gB_IsYi"
      }
    },
    {
      "cell_type": "code",
      "execution_count": 1,
      "metadata": {
        "id": "CpCBG63DHv5D"
      },
      "outputs": [],
      "source": [
        "fitness_values = [10, 100, 5.5, 34, 1000, 1, 200, 100, 150, 90]\n"
      ]
    },
    {
      "cell_type": "markdown",
      "source": [
        "### Step 2: Normalize the values"
      ],
      "metadata": {
        "id": "QFWAic8WI7j8"
      }
    },
    {
      "cell_type": "code",
      "source": [
        "normalized_fitness_values = [f / sum(fitness_values) for f in fitness_values]\n",
        "normalized_fitness_values"
      ],
      "metadata": {
        "colab": {
          "base_uri": "https://localhost:8080/"
        },
        "id": "Ce2ngVbKIEF8",
        "outputId": "7ce2e292-e13f-4c17-f692-39a1c143f247"
      },
      "execution_count": 2,
      "outputs": [
        {
          "output_type": "execute_result",
          "data": {
            "text/plain": [
              "[0.005915409642117717,\n",
              " 0.059154096421177166,\n",
              " 0.003253475303164744,\n",
              " 0.020112392783200237,\n",
              " 0.5915409642117717,\n",
              " 0.0005915409642117716,\n",
              " 0.11830819284235433,\n",
              " 0.059154096421177166,\n",
              " 0.08873114463176575,\n",
              " 0.05323868677905945]"
            ]
          },
          "metadata": {},
          "execution_count": 2
        }
      ]
    },
    {
      "cell_type": "code",
      "source": [
        "sum(normalized_fitness_values)"
      ],
      "metadata": {
        "colab": {
          "base_uri": "https://localhost:8080/"
        },
        "id": "iEHMcwI4ISry",
        "outputId": "2892f841-6ffa-4540-d26f-83d5a6052ccd"
      },
      "execution_count": 3,
      "outputs": [
        {
          "output_type": "execute_result",
          "data": {
            "text/plain": [
              "1.0000000000000002"
            ]
          },
          "metadata": {},
          "execution_count": 3
        }
      ]
    },
    {
      "cell_type": "markdown",
      "source": [
        "### Step 3: Sort the Normalized Fitness Values"
      ],
      "metadata": {
        "id": "-KWq-9feIjwS"
      }
    },
    {
      "cell_type": "code",
      "source": [
        "sorted_fitness_values = sorted(normalized_fitness_values, reverse = True)\n",
        "sorted_fitness_values"
      ],
      "metadata": {
        "colab": {
          "base_uri": "https://localhost:8080/"
        },
        "id": "lTnX_srRIc0p",
        "outputId": "ca60fe29-e504-4a03-a681-1cfe512f546c"
      },
      "execution_count": 4,
      "outputs": [
        {
          "output_type": "execute_result",
          "data": {
            "text/plain": [
              "[0.5915409642117717,\n",
              " 0.11830819284235433,\n",
              " 0.08873114463176575,\n",
              " 0.059154096421177166,\n",
              " 0.059154096421177166,\n",
              " 0.05323868677905945,\n",
              " 0.020112392783200237,\n",
              " 0.005915409642117717,\n",
              " 0.003253475303164744,\n",
              " 0.0005915409642117716]"
            ]
          },
          "metadata": {},
          "execution_count": 4
        }
      ]
    },
    {
      "cell_type": "markdown",
      "source": [
        "### Step 4: Construct the Cumulative Sums"
      ],
      "metadata": {
        "id": "vnwGmoYRKn6-"
      }
    },
    {
      "cell_type": "code",
      "source": [
        "cumulative_sums = [sum(sorted_fitness_values[i:]) for i in range(0,len(fitness_values))]\n",
        "\n",
        "cumulative_sums"
      ],
      "metadata": {
        "colab": {
          "base_uri": "https://localhost:8080/"
        },
        "id": "9opP47tgJTLv",
        "outputId": "92776273-a883-4b35-e4ba-c740c3e8dbc6"
      },
      "execution_count": 5,
      "outputs": [
        {
          "output_type": "execute_result",
          "data": {
            "text/plain": [
              "[1.0000000000000002,\n",
              " 0.4084590357882284,\n",
              " 0.290150842945874,\n",
              " 0.20141969831410825,\n",
              " 0.1422656018929311,\n",
              " 0.08311150547175392,\n",
              " 0.02987281869269447,\n",
              " 0.009760425909494231,\n",
              " 0.0038450162673765156,\n",
              " 0.0005915409642117716]"
            ]
          },
          "metadata": {},
          "execution_count": 5
        }
      ]
    },
    {
      "cell_type": "code",
      "source": [
        "# The last cumulative sum should equal the lowest normalized fitness value\n",
        "cumulative_sums[-1] == sorted_fitness_values[-1]"
      ],
      "metadata": {
        "colab": {
          "base_uri": "https://localhost:8080/"
        },
        "id": "4kH7aYxXJyXf",
        "outputId": "29960741-b904-4a5e-dec3-9cb4dced5444"
      },
      "execution_count": 6,
      "outputs": [
        {
          "output_type": "execute_result",
          "data": {
            "text/plain": [
              "True"
            ]
          },
          "metadata": {},
          "execution_count": 6
        }
      ]
    },
    {
      "cell_type": "markdown",
      "source": [
        "### Step 5: Select a random number"
      ],
      "metadata": {
        "id": "AUsZHxROLfco"
      }
    },
    {
      "cell_type": "code",
      "source": [
        "import random as rand\n",
        "r1 = rand.randint(0,100000000) / 100000000\n",
        "r1"
      ],
      "metadata": {
        "colab": {
          "base_uri": "https://localhost:8080/"
        },
        "id": "S9lOdj7EKlpL",
        "outputId": "61d08133-5709-47d3-cce7-45483b63d2cc"
      },
      "execution_count": 7,
      "outputs": [
        {
          "output_type": "execute_result",
          "data": {
            "text/plain": [
              "0.0781333"
            ]
          },
          "metadata": {},
          "execution_count": 7
        }
      ]
    },
    {
      "cell_type": "markdown",
      "source": [
        "### Step 6: Choose the First Parent"
      ],
      "metadata": {
        "id": "M3_9M8G1ONDf"
      }
    },
    {
      "cell_type": "code",
      "source": [
        "# Returns the index of the chosen chromosome\n",
        "def get_value(cumsums, probe):\n",
        "  for i in range(0,len(cumsums)-1):\n",
        "    if probe > cumsums[i+1]: return i\n",
        "  return len(cumsums) -1\n",
        "\n",
        "parent1_index = get_value(cumulative_sums, r1)\n",
        "parent1_index"
      ],
      "metadata": {
        "colab": {
          "base_uri": "https://localhost:8080/"
        },
        "id": "iLWYjEKSLywy",
        "outputId": "4212299f-fd38-4dc3-b115-1002e741290f"
      },
      "execution_count": 8,
      "outputs": [
        {
          "output_type": "execute_result",
          "data": {
            "text/plain": [
              "5"
            ]
          },
          "metadata": {},
          "execution_count": 8
        }
      ]
    },
    {
      "cell_type": "markdown",
      "source": [
        "### Step 7: Fetch the Second Parent"
      ],
      "metadata": {
        "id": "-HHOcPVkRZLp"
      }
    },
    {
      "cell_type": "code",
      "source": [
        "# Returns the index of the chosen chromosome\n",
        "def get_value(cumsums, probe):\n",
        "  for i in range(0,len(cumsums)-1):\n",
        "    if probe > cumsums[i+1]: return i\n",
        "  return len(cumsums) -1\n",
        "\n",
        "# Ensure the two parents are not the same\n",
        "parent2_index = parent1_index\n",
        "while parent1_index == parent2_index:\n",
        "  r = rand.randint(0, 100000000) / 100000000\n",
        "  parent2_index = get_value(cumulative_sums, r)\n",
        "\n",
        "print(r)\n",
        "parent2_index"
      ],
      "metadata": {
        "colab": {
          "base_uri": "https://localhost:8080/"
        },
        "id": "J9O8A68RRUT5",
        "outputId": "77b79444-b869-4a81-8a28-867f9cc3d570"
      },
      "execution_count": 9,
      "outputs": [
        {
          "output_type": "stream",
          "name": "stdout",
          "text": [
            "0.31877627\n"
          ]
        },
        {
          "output_type": "execute_result",
          "data": {
            "text/plain": [
              "1"
            ]
          },
          "metadata": {},
          "execution_count": 9
        }
      ]
    }
  ]
}