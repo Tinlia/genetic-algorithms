{
  "nbformat": 4,
  "nbformat_minor": 0,
  "metadata": {
    "colab": {
      "provenance": [],
      "authorship_tag": "ABX9TyPcx9vIoHOnA4fiQWR9D+oC",
      "include_colab_link": true
    },
    "kernelspec": {
      "name": "python3",
      "display_name": "Python 3"
    },
    "language_info": {
      "name": "python"
    }
  },
  "cells": [
    {
      "cell_type": "markdown",
      "metadata": {
        "id": "view-in-github",
        "colab_type": "text"
      },
      "source": [
        "<a href=\"https://colab.research.google.com/github/Tinlia/genetic-algorithms/blob/main/Example_Selection.ipynb\" target=\"_parent\"><img src=\"https://colab.research.google.com/assets/colab-badge.svg\" alt=\"Open In Colab\"/></a>"
      ]
    },
    {
      "cell_type": "markdown",
      "source": [
        "### Step 1: Declare the fitness values"
      ],
      "metadata": {
        "id": "HLk17gB_IsYi"
      }
    },
    {
      "cell_type": "code",
      "execution_count": 6,
      "metadata": {
        "id": "CpCBG63DHv5D"
      },
      "outputs": [],
      "source": [
        "fitness_values = [10, 100, 5.5, 34, 1000, 1, 200, 100, 150, 90]\n"
      ]
    },
    {
      "cell_type": "markdown",
      "source": [
        "### Step 2: Normalize the values"
      ],
      "metadata": {
        "id": "QFWAic8WI7j8"
      }
    },
    {
      "cell_type": "code",
      "source": [
        "normalized_fitness_values = [f / sum(fitness_values) for f in fitness_values]\n",
        "normalized_fitness_values"
      ],
      "metadata": {
        "colab": {
          "base_uri": "https://localhost:8080/"
        },
        "id": "Ce2ngVbKIEF8",
        "outputId": "bba6c9ba-5216-4710-ec8e-58708375767e"
      },
      "execution_count": 7,
      "outputs": [
        {
          "output_type": "execute_result",
          "data": {
            "text/plain": [
              "[0.005915409642117717,\n",
              " 0.059154096421177166,\n",
              " 0.003253475303164744,\n",
              " 0.020112392783200237,\n",
              " 0.5915409642117717,\n",
              " 0.0005915409642117716,\n",
              " 0.11830819284235433,\n",
              " 0.059154096421177166,\n",
              " 0.08873114463176575,\n",
              " 0.05323868677905945]"
            ]
          },
          "metadata": {},
          "execution_count": 7
        }
      ]
    },
    {
      "cell_type": "code",
      "source": [
        "sum(normalized_fitness_values)"
      ],
      "metadata": {
        "colab": {
          "base_uri": "https://localhost:8080/"
        },
        "id": "iEHMcwI4ISry",
        "outputId": "6a598d7e-255b-4b4b-fa0c-42426f12e196"
      },
      "execution_count": 8,
      "outputs": [
        {
          "output_type": "execute_result",
          "data": {
            "text/plain": [
              "1.0000000000000002"
            ]
          },
          "metadata": {},
          "execution_count": 8
        }
      ]
    },
    {
      "cell_type": "markdown",
      "source": [
        "### Step 3: Sort the Normalized Fitness Values"
      ],
      "metadata": {
        "id": "-KWq-9feIjwS"
      }
    },
    {
      "cell_type": "code",
      "source": [
        "sorted_fitness_values = sorted(normalized_fitness_values, reverse = True)\n",
        "sorted_fitness_values"
      ],
      "metadata": {
        "colab": {
          "base_uri": "https://localhost:8080/"
        },
        "id": "lTnX_srRIc0p",
        "outputId": "939bea28-f1eb-4009-987d-ec059decce84"
      },
      "execution_count": 9,
      "outputs": [
        {
          "output_type": "execute_result",
          "data": {
            "text/plain": [
              "[0.5915409642117717,\n",
              " 0.11830819284235433,\n",
              " 0.08873114463176575,\n",
              " 0.059154096421177166,\n",
              " 0.059154096421177166,\n",
              " 0.05323868677905945,\n",
              " 0.020112392783200237,\n",
              " 0.005915409642117717,\n",
              " 0.003253475303164744,\n",
              " 0.0005915409642117716]"
            ]
          },
          "metadata": {},
          "execution_count": 9
        }
      ]
    },
    {
      "cell_type": "markdown",
      "source": [
        "### Step 4: Construct the Cumulative Sums"
      ],
      "metadata": {
        "id": "vnwGmoYRKn6-"
      }
    },
    {
      "cell_type": "code",
      "source": [
        "cumulative_sums = [sum(sorted_fitness_values[i:]) for i in range(0,len(fitness_values))]\n",
        "\n",
        "cumulative_sums"
      ],
      "metadata": {
        "colab": {
          "base_uri": "https://localhost:8080/"
        },
        "id": "9opP47tgJTLv",
        "outputId": "7557156f-bff4-4d3c-ac88-dc8771541b9b"
      },
      "execution_count": 10,
      "outputs": [
        {
          "output_type": "execute_result",
          "data": {
            "text/plain": [
              "[1.0000000000000002,\n",
              " 0.4084590357882284,\n",
              " 0.290150842945874,\n",
              " 0.20141969831410825,\n",
              " 0.1422656018929311,\n",
              " 0.08311150547175392,\n",
              " 0.02987281869269447,\n",
              " 0.009760425909494231,\n",
              " 0.0038450162673765156,\n",
              " 0.0005915409642117716]"
            ]
          },
          "metadata": {},
          "execution_count": 10
        }
      ]
    },
    {
      "cell_type": "code",
      "source": [
        "# The last cumulative sum should equal the lowest normalized fitness value\n",
        "cumulative_sums[-1] == sorted_fitness_values[-1]"
      ],
      "metadata": {
        "colab": {
          "base_uri": "https://localhost:8080/"
        },
        "id": "4kH7aYxXJyXf",
        "outputId": "abf33ce1-8629-42f6-8aa0-8a9383b99ebb"
      },
      "execution_count": 11,
      "outputs": [
        {
          "output_type": "execute_result",
          "data": {
            "text/plain": [
              "True"
            ]
          },
          "metadata": {},
          "execution_count": 11
        }
      ]
    },
    {
      "cell_type": "markdown",
      "source": [
        "### Step 5: Select a random number"
      ],
      "metadata": {
        "id": "AUsZHxROLfco"
      }
    },
    {
      "cell_type": "code",
      "source": [
        "import random as rand\n",
        "r1 = rand.random()\n",
        "r1"
      ],
      "metadata": {
        "colab": {
          "base_uri": "https://localhost:8080/"
        },
        "id": "S9lOdj7EKlpL",
        "outputId": "0f1be192-ba1b-4e1f-b495-ec711e46a991"
      },
      "execution_count": 12,
      "outputs": [
        {
          "output_type": "execute_result",
          "data": {
            "text/plain": [
              "0.7030672760232757"
            ]
          },
          "metadata": {},
          "execution_count": 12
        }
      ]
    },
    {
      "cell_type": "markdown",
      "source": [
        "### Step 6: Choose the First Parent"
      ],
      "metadata": {
        "id": "M3_9M8G1ONDf"
      }
    },
    {
      "cell_type": "code",
      "source": [
        "# Returns the index of the chosen chromosome\n",
        "def get_value(cumsums, probe):\n",
        "  for i in range(0,len(cumsums)-1):\n",
        "    if probe > cumsums[i+1]: return i\n",
        "  return len(cumsums) -1\n",
        "\n",
        "parent1_index = get_value(cumulative_sums, r1)\n",
        "parent1_index"
      ],
      "metadata": {
        "colab": {
          "base_uri": "https://localhost:8080/"
        },
        "id": "iLWYjEKSLywy",
        "outputId": "1b48b957-433d-4f67-aae7-91d9257facde"
      },
      "execution_count": 13,
      "outputs": [
        {
          "output_type": "execute_result",
          "data": {
            "text/plain": [
              "0"
            ]
          },
          "metadata": {},
          "execution_count": 13
        }
      ]
    },
    {
      "cell_type": "markdown",
      "source": [
        "### Step 7: Fetch the Second Parent"
      ],
      "metadata": {
        "id": "-HHOcPVkRZLp"
      }
    },
    {
      "cell_type": "code",
      "source": [
        "# Returns the index of the chosen chromosome\n",
        "def get_value(cumsums, probe):\n",
        "  for i in range(0,len(cumsums)-1):\n",
        "    if probe > cumsums[i+1]: return i\n",
        "  return len(cumsums) -1\n",
        "\n",
        "# Ensure the two parents are not the same\n",
        "parent2_index = parent1_index\n",
        "while parent1_index == parent2_index:\n",
        "  r = rand.randint(0, 100000000) / 100000000\n",
        "  parent2_index = get_value(cumulative_sums, r)\n",
        "\n",
        "print(r)\n",
        "parent2_index"
      ],
      "metadata": {
        "colab": {
          "base_uri": "https://localhost:8080/"
        },
        "id": "J9O8A68RRUT5",
        "outputId": "a27f3d47-eb1e-490d-dcdb-3ff6f98c981b"
      },
      "execution_count": 14,
      "outputs": [
        {
          "output_type": "stream",
          "name": "stdout",
          "text": [
            "0.19363701\n"
          ]
        },
        {
          "output_type": "execute_result",
          "data": {
            "text/plain": [
              "3"
            ]
          },
          "metadata": {},
          "execution_count": 14
        }
      ]
    },
    {
      "cell_type": "code",
      "source": [],
      "metadata": {
        "id": "3O6O-ELSU5xc"
      },
      "execution_count": 14,
      "outputs": []
    }
  ]
}