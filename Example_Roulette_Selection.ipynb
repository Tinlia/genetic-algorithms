{
  "nbformat": 4,
  "nbformat_minor": 0,
  "metadata": {
    "colab": {
      "provenance": [],
      "authorship_tag": "ABX9TyNxygkuxGZyTC/F6wAQDmhu",
      "include_colab_link": true
    },
    "kernelspec": {
      "name": "python3",
      "display_name": "Python 3"
    },
    "language_info": {
      "name": "python"
    }
  },
  "cells": [
    {
      "cell_type": "markdown",
      "metadata": {
        "id": "view-in-github",
        "colab_type": "text"
      },
      "source": [
        "<a href=\"https://colab.research.google.com/github/Tinlia/genetic-algorithms/blob/main/Example_Roulette_Selection.ipynb\" target=\"_parent\"><img src=\"https://colab.research.google.com/assets/colab-badge.svg\" alt=\"Open In Colab\"/></a>"
      ]
    },
    {
      "cell_type": "markdown",
      "source": [
        "### Step 1: Create the Chromosome Class"
      ],
      "metadata": {
        "id": "T3IFrqnTduoz"
      }
    },
    {
      "cell_type": "code",
      "source": [
        "class Chromosome():\n",
        "  def __init__(self, x, y):\n",
        "    self.x = x\n",
        "    self.y = y\n",
        "    self.fitness = x * y    # Simple fitness function\n",
        "    self.normalized_fitness = None"
      ],
      "metadata": {
        "id": "L1hqLhlwkBv2"
      },
      "execution_count": 1,
      "outputs": []
    },
    {
      "cell_type": "markdown",
      "source": [
        "### Step 2: Initialize 10 Chromosomes With Random Fitnesses"
      ],
      "metadata": {
        "id": "OZm_rNWIMvwq"
      }
    },
    {
      "cell_type": "code",
      "execution_count": 2,
      "metadata": {
        "colab": {
          "base_uri": "https://localhost:8080/"
        },
        "id": "nLrejDcAacW-",
        "outputId": "db660ab7-e456-43e5-aaeb-c543328a1758"
      },
      "outputs": [
        {
          "output_type": "stream",
          "name": "stdout",
          "text": [
            "(4, 2)\n",
            "(6, 7)\n",
            "(4, 10)\n",
            "(9, 5)\n",
            "(7, 1)\n",
            "(3, 4)\n",
            "(6, 5)\n",
            "(5, 3)\n",
            "(2, 2)\n",
            "(5, 3)\n"
          ]
        },
        {
          "output_type": "execute_result",
          "data": {
            "text/plain": [
              "[8, 42, 40, 45, 7, 12, 30, 15, 4, 15]"
            ]
          },
          "metadata": {},
          "execution_count": 2
        }
      ],
      "source": [
        "import random as r\n",
        "chromosomes = [Chromosome(r.randint(1,10), r.randint(1,10)) for _ in range(10)]\n",
        "\n",
        "# Print chromosome values\n",
        "for c in chromosomes:\n",
        "  print(f\"({c.x}, {c.y})\")\n",
        "\n",
        "fitness_values = [c.fitness for c in chromosomes]\n",
        "fitness_values"
      ]
    },
    {
      "cell_type": "markdown",
      "source": [
        "### Step 3: Normalize the Fitness Values"
      ],
      "metadata": {
        "id": "0-Awk9sninOX"
      }
    },
    {
      "cell_type": "code",
      "source": [
        "for c in chromosomes:\n",
        "  c.normalized_fitness = c.fitness / sum(fitness_values)\n",
        "normalized_fitness_values = [c.normalized_fitness for c in chromosomes]\n",
        "normalized_fitness_values.sort(reverse=True)\n",
        "normalized_fitness_values"
      ],
      "metadata": {
        "colab": {
          "base_uri": "https://localhost:8080/"
        },
        "id": "zjnnVLTaiYYC",
        "outputId": "91fd9534-c94a-4596-9b52-4cf474d20a13"
      },
      "execution_count": 3,
      "outputs": [
        {
          "output_type": "execute_result",
          "data": {
            "text/plain": [
              "[0.20642201834862386,\n",
              " 0.1926605504587156,\n",
              " 0.1834862385321101,\n",
              " 0.13761467889908258,\n",
              " 0.06880733944954129,\n",
              " 0.06880733944954129,\n",
              " 0.05504587155963303,\n",
              " 0.03669724770642202,\n",
              " 0.03211009174311927,\n",
              " 0.01834862385321101]"
            ]
          },
          "metadata": {},
          "execution_count": 3
        }
      ]
    },
    {
      "cell_type": "markdown",
      "source": [
        "### Step 4: Define Each Chromosome's Fitness Value"
      ],
      "metadata": {
        "id": "ke7OGZITNrhF"
      }
    },
    {
      "cell_type": "code",
      "source": [
        "chromosomes.sort(key=lambda c: c.normalized_fitness, reverse=True)\n",
        "\n",
        "for c in chromosomes:\n",
        "  print(c.normalized_fitness)"
      ],
      "metadata": {
        "colab": {
          "base_uri": "https://localhost:8080/"
        },
        "id": "bwchq6_gRECE",
        "outputId": "80c3681c-7291-4c6b-d630-fb27d601e066"
      },
      "execution_count": 4,
      "outputs": [
        {
          "output_type": "stream",
          "name": "stdout",
          "text": [
            "0.20642201834862386\n",
            "0.1926605504587156\n",
            "0.1834862385321101\n",
            "0.13761467889908258\n",
            "0.06880733944954129\n",
            "0.06880733944954129\n",
            "0.05504587155963303\n",
            "0.03669724770642202\n",
            "0.03211009174311927\n",
            "0.01834862385321101\n"
          ]
        }
      ]
    },
    {
      "cell_type": "markdown",
      "source": [
        "### Step 5: Build cumulative sums"
      ],
      "metadata": {
        "id": "ZVVRRKF2R77w"
      }
    },
    {
      "cell_type": "code",
      "source": [
        "cumulative_sums = []\n",
        "for i in range(len(normalized_fitness_values)):\n",
        "  cumulative_sums.append(sum(normalized_fitness_values[i:]))\n",
        "cumulative_sums"
      ],
      "metadata": {
        "id": "CTBnR-fXi2j4",
        "colab": {
          "base_uri": "https://localhost:8080/"
        },
        "outputId": "c497357d-59b8-41d0-f322-53f237e44055"
      },
      "execution_count": 5,
      "outputs": [
        {
          "output_type": "execute_result",
          "data": {
            "text/plain": [
              "[1.0,\n",
              " 0.7935779816513763,\n",
              " 0.6009174311926606,\n",
              " 0.4174311926605505,\n",
              " 0.2798165137614679,\n",
              " 0.21100917431192662,\n",
              " 0.14220183486238533,\n",
              " 0.0871559633027523,\n",
              " 0.05045871559633028,\n",
              " 0.01834862385321101]"
            ]
          },
          "metadata": {},
          "execution_count": 5
        }
      ]
    },
    {
      "cell_type": "markdown",
      "source": [
        "### Step 6: Generate a Random Float from 0-1"
      ],
      "metadata": {
        "id": "U4MwPXU9T_vA"
      }
    },
    {
      "cell_type": "code",
      "source": [
        "ball = r.random()\n",
        "ball"
      ],
      "metadata": {
        "colab": {
          "base_uri": "https://localhost:8080/"
        },
        "id": "1HFw01SES9fo",
        "outputId": "54afa7d0-3964-4a24-bb52-547c347849eb"
      },
      "execution_count": 6,
      "outputs": [
        {
          "output_type": "execute_result",
          "data": {
            "text/plain": [
              "0.010438024649539135"
            ]
          },
          "metadata": {},
          "execution_count": 6
        }
      ]
    },
    {
      "cell_type": "markdown",
      "source": [
        "### Step 7: \"Roll the wheel\" To Choose the Parents"
      ],
      "metadata": {
        "id": "8Iy8F_y1Uqan"
      }
    },
    {
      "cell_type": "code",
      "source": [
        "# Returns the index of the chosen chromosome\n",
        "def get_value(cumsums, probe):\n",
        "  for i in range(0,len(cumsums)-1):\n",
        "    if probe > cumsums[i+1]: return i\n",
        "  return len(cumsums) -1\n",
        "\n",
        "parent1_index = get_value(cumulative_sums, ball)\n",
        "\n",
        "# Ensure the two parents are not the same\n",
        "parent2_index = parent1_index\n",
        "while parent1_index == parent2_index:\n",
        "  ball = r.random()\n",
        "  parent2_index = get_value(cumulative_sums, ball)\n",
        "\n",
        "print(f\"Parent one index: {parent1_index}\\nParent two index: {parent2_index}\")"
      ],
      "metadata": {
        "colab": {
          "base_uri": "https://localhost:8080/"
        },
        "id": "vUFs3Q02UqHP",
        "outputId": "20a841b6-5010-4843-b1c9-c9263cdb244b"
      },
      "execution_count": 7,
      "outputs": [
        {
          "output_type": "stream",
          "name": "stdout",
          "text": [
            "Parent one index: 9\n",
            "Parent two index: 0\n"
          ]
        }
      ]
    },
    {
      "cell_type": "markdown",
      "source": [
        "### Step 8: Print the Information of Both Parents"
      ],
      "metadata": {
        "id": "UzEM7SHpXG3z"
      }
    },
    {
      "cell_type": "code",
      "source": [
        "c1 = chromosomes[parent1_index]\n",
        "c2 = chromosomes[parent2_index]\n",
        "print(f\"Parent One Values: [{c1.x}, {c1.y}]\\n\",\n",
        "      f\"Parent One Fitness: {c1.fitness}\\n\")\n",
        "\n",
        "print(f\"Parent One Values: [{c2.x}, {c2.y}]\\n\",\n",
        "      f\"Parent One Fitness: {c2.fitness}\\n\")"
      ],
      "metadata": {
        "colab": {
          "base_uri": "https://localhost:8080/"
        },
        "id": "Nx6fAeWBXFkn",
        "outputId": "42092de3-133c-4c4e-f262-f55df5a7f361"
      },
      "execution_count": 8,
      "outputs": [
        {
          "output_type": "stream",
          "name": "stdout",
          "text": [
            "Parent One Values: [2, 2]\n",
            " Parent One Fitness: 4\n",
            "\n",
            "Parent One Values: [9, 5]\n",
            " Parent One Fitness: 45\n",
            "\n"
          ]
        }
      ]
    }
  ]
}